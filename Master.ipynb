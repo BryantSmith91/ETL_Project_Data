{
 "cells": [
  {
   "cell_type": "code",
   "execution_count": null,
   "metadata": {},
   "outputs": [],
   "source": [
    "#Import Dependencies \n",
    "import pandas as pd\n",
    "from sqlalchemy import create_engine\n",
    "import psycopg2\n"
   ]
  },
  {
   "cell_type": "code",
   "execution_count": null,
   "metadata": {},
   "outputs": [],
   "source": [
    "#Import CSV\n",
    "CitiBike = \"../ETL/CitiBike.csv\"\n",
    "CitiBike = pd.read_csv(\"CitiBike.csv\")\n",
    "CitiBike_df = CitiBike.assign(DATEINT = CitiBike['Date'].str.replace(\"/\",\"\").astype(int))\n",
    "CitiBike_df.head()"
   ]
  },
  {
   "cell_type": "code",
   "execution_count": null,
   "metadata": {},
   "outputs": [],
   "source": [
    "#Grouped csv data by date in order to preserve hierarchy amongst the scattered weather data. \n",
    "Weather = pd.read_csv('1784274.csv')\n",
    "Weather = Weather.assign(DATEINT = Weather['DATE'].str.replace(\"/\",\"\").astype(int))\n",
    "Weather = Weather.groupby(['DATE']).mean()\n",
    "Weather = Weather.reset_index()\n",
    "FilterWeather = Weather[['DATEINT','PRCP','SNOW','SNWD','TMAX','TMIN']]\n",
    "FilterWeather = FilterWeather.rename(columns= {'DATEINT':'dateint','PRCP':'percip_in_inches','SNOW':'snow_in_inches','SNWD':'snow_depth_in_inches','TMAX':'max_temp','TMIN':'min_temp'})\n",
    "FilterWeather.head()\n"
   ]
  },
  {
   "cell_type": "code",
   "execution_count": null,
   "metadata": {},
   "outputs": [],
   "source": [
    "#Cleaned bike data for easier data retrieval. Names were too long and were shortened for simple queries.\n",
    "CitiBike = pd.read_csv(\"CitiBike.csv\")\n",
    "CitiBike_df = CitiBike.assign(DATEINT = CitiBike['Date'].str.replace(\"/\",\"\").astype(int))\n",
    "# CitiBike_df.head()\n",
    "\n",
    "CitiBike_Cleaned1 = CitiBike_df.rename(columns={'Trips over the past 24-hours (midnight to 11:59pm)': 'daily_trips',\n",
    "                                               'Cumulative trips (since launch):': 'cumulative_trips',\n",
    "                                               'Miles traveled today (midnight to 11:59 pm)': 'daily_miles',\n",
    "                                               'Miles traveled to date:': 'cumulative_miles',\n",
    "                                               'Total Annual Members': 'cumulative_members'\n",
    "                                               })\n",
    "CitiBike_Cleaned2 = CitiBike_Cleaned1.drop(['Date',\n",
    "                                            'Annual Member Sign-Ups (midnight to 11:59 pm)',\n",
    "                                            '24-Hour Passes Purchased (midnight to 11:59 pm)',\n",
    "                                            '7-Day Passes Purchased (midnight to 11:59 pm)',\n",
    "                                            '3-Day Passes Purchased (midnight to 11:59 pm)'], axis = 1)\n",
    "CitiBike_df = CitiBike_Cleaned1\n",
    "CitiBike_df = CitiBike_df[['DATEINT','daily_trips','cumulative_trips','daily_miles','cumulative_miles','cumulative_members']]\n",
    "CitiBike_df = CitiBike_df.rename(columns= {'DATEINT':'dateint'})"
   ]
  },
  {
   "cell_type": "code",
   "execution_count": null,
   "metadata": {},
   "outputs": [],
   "source": [
    "CitiBike_df.head()"
   ]
  },
  {
   "cell_type": "code",
   "execution_count": null,
   "metadata": {},
   "outputs": [],
   "source": []
  },
  {
   "cell_type": "code",
   "execution_count": null,
   "metadata": {},
   "outputs": [],
   "source": [
    "connection_string = \"postgres:password@localhost:5432/CitiBike_db\"\n",
    "engine = create_engine(f'postgresql://{connection_string}')"
   ]
  },
  {
   "cell_type": "code",
   "execution_count": null,
   "metadata": {},
   "outputs": [],
   "source": [
    "# Confirm tables\n",
    "engine.table_names()"
   ]
  },
  {
   "cell_type": "code",
   "execution_count": null,
   "metadata": {},
   "outputs": [],
   "source": [
    "CitiBike_df.to_sql(name='citibike', con=engine, if_exists='append', index=True)"
   ]
  },
  {
   "cell_type": "code",
   "execution_count": null,
   "metadata": {},
   "outputs": [],
   "source": [
    "FilterWeather.to_sql(name='weather', con=engine, if_exists='append', index=True)"
   ]
  },
  {
   "cell_type": "code",
   "execution_count": null,
   "metadata": {},
   "outputs": [],
   "source": []
  }
 ],
 "metadata": {
  "kernelspec": {
   "display_name": "Python 3",
   "language": "python",
   "name": "python3"
  },
  "language_info": {
   "codemirror_mode": {
    "name": "ipython",
    "version": 3
   },
   "file_extension": ".py",
   "mimetype": "text/x-python",
   "name": "python",
   "nbconvert_exporter": "python",
   "pygments_lexer": "ipython3",
   "version": "3.7.1"
  },
  "varInspector": {
   "cols": {
    "lenName": 16,
    "lenType": 16,
    "lenVar": 40
   },
   "kernels_config": {
    "python": {
     "delete_cmd_postfix": "",
     "delete_cmd_prefix": "del ",
     "library": "var_list.py",
     "varRefreshCmd": "print(var_dic_list())"
    },
    "r": {
     "delete_cmd_postfix": ") ",
     "delete_cmd_prefix": "rm(",
     "library": "var_list.r",
     "varRefreshCmd": "cat(var_dic_list()) "
    }
   },
   "types_to_exclude": [
    "module",
    "function",
    "builtin_function_or_method",
    "instance",
    "_Feature"
   ],
   "window_display": false
  }
 },
 "nbformat": 4,
 "nbformat_minor": 2
}
